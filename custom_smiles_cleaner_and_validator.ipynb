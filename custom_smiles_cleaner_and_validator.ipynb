{
 "cells": [
  {
   "cell_type": "code",
   "execution_count": null,
   "metadata": {},
   "outputs": [],
   "source": [
    "import cleanup_smiles as cs\n"
   ]
  },
  {
   "cell_type": "code",
   "execution_count": 3,
   "metadata": {},
   "outputs": [],
   "source": [
    "inp = \"datasets/known_inhibitors_for_corona_virus.smi\" \n",
    "out = \"datasets/known_inhibitors_for_corona_virus_cleaned.smi\""
   ]
  },
  {
   "cell_type": "code",
   "execution_count": 2,
   "metadata": {},
   "outputs": [
    {
     "name": "stderr",
     "output_type": "stream",
     "text": [
      " 15%|████████████▎                                                                    | 15/99 [00:00<00:00, 148.86it/s]"
     ]
    },
    {
     "name": "stdout",
     "output_type": "stream",
     "text": [
      "input SMILES num: 99\n",
      "start to clean up\n"
     ]
    },
    {
     "name": "stderr",
     "output_type": "stream",
     "text": [
      "100%|█████████████████████████████████████████████████████████████████████████████████| 99/99 [00:00<00:00, 435.37it/s]"
     ]
    },
    {
     "name": "stdout",
     "output_type": "stream",
     "text": [
      "done.\n",
      "output SMILES num: 22\n"
     ]
    },
    {
     "name": "stderr",
     "output_type": "stream",
     "text": [
      "\n"
     ]
    }
   ],
   "source": [
    "cs.main(\"datasets/known_inhibitors_for_corona_virus.smi\" , \"datasets/known_inhibitors_for_corona_virus_cleaned.smi\", )"
   ]
  },
  {
   "cell_type": "code",
   "execution_count": 4,
   "metadata": {},
   "outputs": [],
   "source": [
    "from rdkit import RDLogger, Chem, DataStructs\n",
    "from rdkit.Chem import AllChem, Descriptors\n",
    "RDLogger.DisableLog('rdApp.*')"
   ]
  },
  {
   "cell_type": "code",
   "execution_count": 8,
   "metadata": {},
   "outputs": [],
   "source": [
    "# import numpy as np\n",
    "# import matplotlib.pyplot as plt\n",
    "# %matplotlib inline\n",
    "\n",
    "# from lstm_chem.utils.config import process_config\n",
    "# from lstm_chem.model import LSTMChem\n",
    "# from lstm_chem.generator import LSTMChemGenerator\n",
    "\n",
    "# CONFIG_FILE = 'experiments/2020-03-24/LSTM_Chem/config.json'\n",
    "# config = process_config(CONFIG_FILE)\n",
    "\n",
    "# modeler = LSTMChem(config, session='generate')\n",
    "\n",
    "# # It took more than 4 hours!\n",
    "# generator = LSTMChemGenerator(modeler)\n",
    "# sampled_smiles = generator.sample(num=7)"
   ]
  },
  {
   "cell_type": "code",
   "execution_count": 18,
   "metadata": {},
   "outputs": [],
   "source": [
    "sampled_smiles = []\n",
    "suppl  = Chem.SmilesMolSupplier(inp)\n",
    "for i, mol in enumerate(suppl):\n",
    "    sampled_smiles.append(Chem.MolToSmiles(mol) )"
   ]
  },
  {
   "cell_type": "code",
   "execution_count": 19,
   "metadata": {},
   "outputs": [
    {
     "name": "stdout",
     "output_type": "stream",
     "text": [
      "Percent of valid smiles : 100.00%\n"
     ]
    }
   ],
   "source": [
    "\n",
    "valid_mols = []\n",
    "for smi in sampled_smiles:\n",
    "    mol = Chem.MolFromSmiles(smi)\n",
    "\n",
    "    if mol is not None:\n",
    "        valid_mols.append(mol)\n",
    "# low validity\n",
    "print('Percent of valid smiles : '+f'{len(valid_mols) /len(sampled_smiles) :.2%}')"
   ]
  },
  {
   "cell_type": "code",
   "execution_count": null,
   "metadata": {},
   "outputs": [],
   "source": [
    "Chem.MolFromSmiles()"
   ]
  }
 ],
 "metadata": {
  "kernelspec": {
   "display_name": "Python 3",
   "language": "python",
   "name": "python3"
  },
  "language_info": {
   "codemirror_mode": {
    "name": "ipython",
    "version": 3
   },
   "file_extension": ".py",
   "mimetype": "text/x-python",
   "name": "python",
   "nbconvert_exporter": "python",
   "pygments_lexer": "ipython3",
   "version": "3.7.6"
  }
 },
 "nbformat": 4,
 "nbformat_minor": 4
}
