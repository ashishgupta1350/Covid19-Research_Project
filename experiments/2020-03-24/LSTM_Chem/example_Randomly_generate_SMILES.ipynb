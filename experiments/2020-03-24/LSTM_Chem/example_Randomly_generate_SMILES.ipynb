{
 "cells": [
  {
   "cell_type": "code",
   "execution_count": 1,
   "metadata": {},
   "outputs": [
    {
     "name": "stderr",
     "output_type": "stream",
     "text": [
      "C:\\Users\\ashis\\anaconda3\\lib\\site-packages\\tensorflow\\python\\framework\\dtypes.py:526: FutureWarning: Passing (type, 1) or '1type' as a synonym of type is deprecated; in a future version of numpy, it will be understood as (type, (1,)) / '(1,)type'.\n",
      "  _np_qint8 = np.dtype([(\"qint8\", np.int8, 1)])\n",
      "C:\\Users\\ashis\\anaconda3\\lib\\site-packages\\tensorflow\\python\\framework\\dtypes.py:527: FutureWarning: Passing (type, 1) or '1type' as a synonym of type is deprecated; in a future version of numpy, it will be understood as (type, (1,)) / '(1,)type'.\n",
      "  _np_quint8 = np.dtype([(\"quint8\", np.uint8, 1)])\n",
      "C:\\Users\\ashis\\anaconda3\\lib\\site-packages\\tensorflow\\python\\framework\\dtypes.py:528: FutureWarning: Passing (type, 1) or '1type' as a synonym of type is deprecated; in a future version of numpy, it will be understood as (type, (1,)) / '(1,)type'.\n",
      "  _np_qint16 = np.dtype([(\"qint16\", np.int16, 1)])\n",
      "C:\\Users\\ashis\\anaconda3\\lib\\site-packages\\tensorflow\\python\\framework\\dtypes.py:529: FutureWarning: Passing (type, 1) or '1type' as a synonym of type is deprecated; in a future version of numpy, it will be understood as (type, (1,)) / '(1,)type'.\n",
      "  _np_quint16 = np.dtype([(\"quint16\", np.uint16, 1)])\n",
      "C:\\Users\\ashis\\anaconda3\\lib\\site-packages\\tensorflow\\python\\framework\\dtypes.py:530: FutureWarning: Passing (type, 1) or '1type' as a synonym of type is deprecated; in a future version of numpy, it will be understood as (type, (1,)) / '(1,)type'.\n",
      "  _np_qint32 = np.dtype([(\"qint32\", np.int32, 1)])\n",
      "C:\\Users\\ashis\\anaconda3\\lib\\site-packages\\tensorflow\\python\\framework\\dtypes.py:535: FutureWarning: Passing (type, 1) or '1type' as a synonym of type is deprecated; in a future version of numpy, it will be understood as (type, (1,)) / '(1,)type'.\n",
      "  np_resource = np.dtype([(\"resource\", np.ubyte, 1)])\n"
     ]
    }
   ],
   "source": [
    "import numpy as np\n",
    "import matplotlib.pyplot as plt\n",
    "%matplotlib inline\n",
    "\n",
    "from lstm_chem.utils.config import process_config\n",
    "from lstm_chem.model import LSTMChem\n",
    "from lstm_chem.generator import LSTMChemGenerator"
   ]
  },
  {
   "cell_type": "code",
   "execution_count": 2,
   "metadata": {},
   "outputs": [],
   "source": [
    "CONFIG_FILE = 'experiments/2020-03-24/LSTM_Chem/config.json'\n",
    "config = process_config(CONFIG_FILE)"
   ]
  },
  {
   "cell_type": "code",
   "execution_count": 3,
   "metadata": {},
   "outputs": [
    {
     "name": "stdout",
     "output_type": "stream",
     "text": [
      "Loading model architecture from experiments/2020-03-24/LSTM_Chem/model_arch.json ...\n",
      "WARNING:tensorflow:From C:\\Users\\ashis\\anaconda3\\lib\\site-packages\\tensorflow\\python\\ops\\resource_variable_ops.py:435: colocate_with (from tensorflow.python.framework.ops) is deprecated and will be removed in a future version.\n",
      "Instructions for updating:\n",
      "Colocations handled automatically by placer.\n",
      "WARNING:tensorflow:From C:\\Users\\ashis\\anaconda3\\lib\\site-packages\\tensorflow\\python\\keras\\backend.py:4010: calling dropout (from tensorflow.python.ops.nn_ops) with keep_prob is deprecated and will be removed in a future version.\n",
      "Instructions for updating:\n",
      "Please use `rate` instead of `keep_prob`. Rate should be set to `rate = 1 - keep_prob`.\n",
      "Loading model checkpoint from experiments/2020-03-24/LSTM_Chem/checkpoints/LSTM_Chem-22-0.45.hdf5 ...\n",
      "Loaded the Model.\n"
     ]
    }
   ],
   "source": [
    "modeler = LSTMChem(config, session='generate')"
   ]
  },
  {
   "cell_type": "code",
   "execution_count": 7,
   "metadata": {},
   "outputs": [
    {
     "name": "stderr",
     "output_type": "stream",
     "text": [
      "\n",
      "  0%|                                                                                          | 0/100 [00:00<?, ?it/s]\u001b[A\n",
      "  1%|▊                                                                                 | 1/100 [00:00<00:38,  2.56it/s]\u001b[A\n",
      "  2%|█▋                                                                                | 2/100 [00:00<00:40,  2.39it/s]\u001b[A\n",
      "  3%|██▍                                                                               | 3/100 [00:01<00:42,  2.31it/s]\u001b[A\n",
      "  4%|███▎                                                                              | 4/100 [00:01<00:40,  2.38it/s]\u001b[A\n",
      "  5%|████                                                                              | 5/100 [00:02<00:39,  2.42it/s]\u001b[A\n",
      "  6%|████▉                                                                             | 6/100 [00:02<00:40,  2.29it/s]\u001b[A\n",
      "  7%|█████▋                                                                            | 7/100 [00:03<00:40,  2.28it/s]\u001b[A\n",
      "  8%|██████▌                                                                           | 8/100 [00:03<00:42,  2.16it/s]\u001b[A\n",
      "  9%|███████▍                                                                          | 9/100 [00:04<00:45,  2.01it/s]\u001b[A\n",
      " 10%|████████                                                                         | 10/100 [00:04<00:41,  2.18it/s]\u001b[A\n",
      " 11%|████████▉                                                                        | 11/100 [00:04<00:39,  2.24it/s]\u001b[A\n",
      " 12%|█████████▋                                                                       | 12/100 [00:05<00:37,  2.34it/s]\u001b[A\n",
      " 13%|██████████▌                                                                      | 13/100 [00:05<00:37,  2.35it/s]\u001b[A\n",
      " 14%|███████████▎                                                                     | 14/100 [00:06<00:36,  2.38it/s]\u001b[A\n",
      " 15%|████████████▏                                                                    | 15/100 [00:06<00:36,  2.35it/s]\u001b[A\n",
      " 16%|████████████▉                                                                    | 16/100 [00:06<00:29,  2.80it/s]\u001b[A\n",
      " 17%|█████████████▊                                                                   | 17/100 [00:06<00:25,  3.27it/s]\u001b[A\n",
      " 18%|██████████████▌                                                                  | 18/100 [00:07<00:28,  2.93it/s]\u001b[A\n",
      " 19%|███████████████▍                                                                 | 19/100 [00:07<00:30,  2.62it/s]\u001b[A\n",
      " 20%|████████████████▏                                                                | 20/100 [00:08<00:32,  2.46it/s]\u001b[A\n",
      " 21%|█████████████████                                                                | 21/100 [00:08<00:31,  2.49it/s]\u001b[A\n",
      " 22%|█████████████████▊                                                               | 22/100 [00:09<00:41,  1.89it/s]\u001b[A\n",
      " 23%|██████████████████▋                                                              | 23/100 [00:09<00:34,  2.23it/s]\u001b[A\n",
      " 24%|███████████████████▍                                                             | 24/100 [00:10<00:36,  2.10it/s]\u001b[A\n",
      " 25%|████████████████████▎                                                            | 25/100 [00:10<00:29,  2.53it/s]\u001b[A\n",
      " 26%|█████████████████████                                                            | 26/100 [00:10<00:26,  2.75it/s]\u001b[A\n",
      " 27%|█████████████████████▊                                                           | 27/100 [00:11<00:28,  2.52it/s]\u001b[A\n",
      " 28%|██████████████████████▋                                                          | 28/100 [00:11<00:26,  2.68it/s]\u001b[A\n",
      " 29%|███████████████████████▍                                                         | 29/100 [00:12<00:29,  2.37it/s]\u001b[A\n",
      " 30%|████████████████████████▎                                                        | 30/100 [00:12<00:31,  2.23it/s]\u001b[A\n",
      " 31%|█████████████████████████                                                        | 31/100 [00:13<00:36,  1.87it/s]\u001b[A\n",
      " 32%|█████████████████████████▉                                                       | 32/100 [00:13<00:31,  2.15it/s]\u001b[A\n",
      " 33%|██████████████████████████▋                                                      | 33/100 [00:14<00:29,  2.31it/s]\u001b[A\n",
      " 34%|███████████████████████████▌                                                     | 34/100 [00:14<00:30,  2.17it/s]\u001b[A\n",
      " 35%|████████████████████████████▎                                                    | 35/100 [00:15<00:28,  2.27it/s]\u001b[A\n",
      " 36%|█████████████████████████████▏                                                   | 36/100 [00:15<00:25,  2.51it/s]\u001b[A\n",
      " 37%|█████████████████████████████▉                                                   | 37/100 [00:15<00:30,  2.06it/s]\u001b[A\n",
      " 38%|██████████████████████████████▊                                                  | 38/100 [00:16<00:30,  2.02it/s]\u001b[A\n",
      " 39%|███████████████████████████████▌                                                 | 39/100 [00:16<00:29,  2.08it/s]\u001b[A\n",
      " 40%|████████████████████████████████▍                                                | 40/100 [00:17<00:31,  1.89it/s]\u001b[A\n",
      " 41%|█████████████████████████████████▏                                               | 41/100 [00:18<00:32,  1.84it/s]\u001b[A\n",
      " 42%|██████████████████████████████████                                               | 42/100 [00:18<00:29,  1.98it/s]\u001b[A\n",
      " 43%|██████████████████████████████████▊                                              | 43/100 [00:18<00:25,  2.20it/s]\u001b[A\n",
      " 44%|███████████████████████████████████▋                                             | 44/100 [00:19<00:26,  2.09it/s]\u001b[A\n",
      " 45%|████████████████████████████████████▍                                            | 45/100 [00:19<00:27,  2.03it/s]\u001b[A\n",
      " 46%|█████████████████████████████████████▎                                           | 46/100 [00:20<00:26,  2.06it/s]\u001b[A\n",
      " 47%|██████████████████████████████████████                                           | 47/100 [00:20<00:23,  2.27it/s]\u001b[A\n",
      " 48%|██████████████████████████████████████▉                                          | 48/100 [00:21<00:22,  2.28it/s]\u001b[A\n",
      " 49%|███████████████████████████████████████▋                                         | 49/100 [00:21<00:19,  2.68it/s]\u001b[A\n",
      " 50%|████████████████████████████████████████▌                                        | 50/100 [00:21<00:20,  2.40it/s]\u001b[A\n",
      " 51%|█████████████████████████████████████████▎                                       | 51/100 [00:22<00:20,  2.41it/s]\u001b[A\n",
      " 52%|██████████████████████████████████████████                                       | 52/100 [00:22<00:19,  2.48it/s]\u001b[A\n",
      " 53%|██████████████████████████████████████████▉                                      | 53/100 [00:23<00:19,  2.46it/s]\u001b[A\n",
      " 54%|███████████████████████████████████████████▋                                     | 54/100 [00:23<00:17,  2.63it/s]\u001b[A\n",
      " 55%|████████████████████████████████████████████▌                                    | 55/100 [00:23<00:17,  2.64it/s]\u001b[A\n",
      " 56%|█████████████████████████████████████████████▎                                   | 56/100 [00:24<00:14,  3.11it/s]\u001b[A\n",
      " 57%|██████████████████████████████████████████████▏                                  | 57/100 [00:24<00:17,  2.47it/s]\u001b[A\n",
      " 58%|██████████████████████████████████████████████▉                                  | 58/100 [00:24<00:14,  2.81it/s]\u001b[A\n",
      " 59%|███████████████████████████████████████████████▊                                 | 59/100 [00:25<00:16,  2.44it/s]\u001b[A\n",
      " 60%|████████████████████████████████████████████████▌                                | 60/100 [00:26<00:20,  1.93it/s]\u001b[A\n",
      " 61%|█████████████████████████████████████████████████▍                               | 61/100 [00:26<00:19,  2.01it/s]\u001b[A\n",
      " 62%|██████████████████████████████████████████████████▏                              | 62/100 [00:26<00:16,  2.26it/s]\u001b[A\n",
      " 63%|███████████████████████████████████████████████████                              | 63/100 [00:27<00:14,  2.62it/s]\u001b[A\n",
      " 64%|███████████████████████████████████████████████████▊                             | 64/100 [00:27<00:12,  2.87it/s]\u001b[A\n",
      " 65%|████████████████████████████████████████████████████▋                            | 65/100 [00:28<00:14,  2.48it/s]\u001b[A\n"
     ]
    },
    {
     "name": "stderr",
     "output_type": "stream",
     "text": [
      " 66%|█████████████████████████████████████████████████████▍                           | 66/100 [00:28<00:13,  2.60it/s]\u001b[A\n",
      " 67%|██████████████████████████████████████████████████████▎                          | 67/100 [00:28<00:13,  2.45it/s]\u001b[A\n",
      " 68%|███████████████████████████████████████████████████████                          | 68/100 [00:29<00:12,  2.51it/s]\u001b[A\n",
      " 69%|███████████████████████████████████████████████████████▉                         | 69/100 [00:29<00:11,  2.63it/s]\u001b[A\n",
      " 70%|████████████████████████████████████████████████████████▋                        | 70/100 [00:30<00:12,  2.34it/s]\u001b[A\n",
      " 71%|█████████████████████████████████████████████████████████▌                       | 71/100 [00:30<00:13,  2.10it/s]\u001b[A\n",
      " 72%|██████████████████████████████████████████████████████████▎                      | 72/100 [00:30<00:12,  2.31it/s]\u001b[A\n",
      " 73%|███████████████████████████████████████████████████████████▏                     | 73/100 [00:31<00:10,  2.48it/s]\u001b[A\n",
      " 74%|███████████████████████████████████████████████████████████▉                     | 74/100 [00:31<00:10,  2.39it/s]\u001b[A\n",
      " 75%|████████████████████████████████████████████████████████████▊                    | 75/100 [00:32<00:10,  2.40it/s]\u001b[A\n",
      " 76%|█████████████████████████████████████████████████████████████▌                   | 76/100 [00:32<00:09,  2.47it/s]\u001b[A\n",
      " 77%|██████████████████████████████████████████████████████████████▎                  | 77/100 [00:32<00:08,  2.56it/s]\u001b[A\n",
      " 78%|███████████████████████████████████████████████████████████████▏                 | 78/100 [00:33<00:09,  2.35it/s]\u001b[A\n",
      " 79%|███████████████████████████████████████████████████████████████▉                 | 79/100 [00:34<00:10,  2.00it/s]\u001b[A\n",
      " 80%|████████████████████████████████████████████████████████████████▊                | 80/100 [00:34<00:08,  2.42it/s]\u001b[A\n",
      " 81%|█████████████████████████████████████████████████████████████████▌               | 81/100 [00:34<00:07,  2.64it/s]\u001b[A\n",
      " 82%|██████████████████████████████████████████████████████████████████▍              | 82/100 [00:35<00:08,  2.25it/s]\u001b[A\n",
      " 83%|███████████████████████████████████████████████████████████████████▏             | 83/100 [00:35<00:08,  2.06it/s]\u001b[A\n",
      " 84%|████████████████████████████████████████████████████████████████████             | 84/100 [00:36<00:07,  2.24it/s]\u001b[A\n",
      " 85%|████████████████████████████████████████████████████████████████████▊            | 85/100 [00:36<00:06,  2.15it/s]\u001b[A\n",
      " 86%|█████████████████████████████████████████████████████████████████████▋           | 86/100 [00:37<00:06,  2.04it/s]\u001b[A\n",
      " 87%|██████████████████████████████████████████████████████████████████████▍          | 87/100 [00:37<00:05,  2.39it/s]\u001b[A\n",
      " 88%|███████████████████████████████████████████████████████████████████████▎         | 88/100 [00:37<00:05,  2.23it/s]\u001b[A\n",
      " 89%|████████████████████████████████████████████████████████████████████████         | 89/100 [00:38<00:04,  2.51it/s]\u001b[A\n",
      " 90%|████████████████████████████████████████████████████████████████████████▉        | 90/100 [00:38<00:03,  2.54it/s]\u001b[A\n",
      " 91%|█████████████████████████████████████████████████████████████████████████▋       | 91/100 [00:39<00:04,  2.23it/s]\u001b[A\n",
      " 92%|██████████████████████████████████████████████████████████████████████████▌      | 92/100 [00:39<00:03,  2.40it/s]\u001b[A\n",
      " 93%|███████████████████████████████████████████████████████████████████████████▎     | 93/100 [00:40<00:03,  2.04it/s]\u001b[A\n",
      " 94%|████████████████████████████████████████████████████████████████████████████▏    | 94/100 [00:40<00:02,  2.14it/s]\u001b[A\n",
      " 95%|████████████████████████████████████████████████████████████████████████████▉    | 95/100 [00:40<00:02,  2.33it/s]\u001b[A\n",
      " 96%|█████████████████████████████████████████████████████████████████████████████▊   | 96/100 [00:41<00:01,  2.06it/s]\u001b[A\n",
      " 97%|██████████████████████████████████████████████████████████████████████████████▌  | 97/100 [00:42<00:01,  1.90it/s]\u001b[A\n",
      " 98%|███████████████████████████████████████████████████████████████████████████████▍ | 98/100 [00:42<00:01,  1.76it/s]\u001b[A\n",
      " 99%|████████████████████████████████████████████████████████████████████████████████▏| 99/100 [00:43<00:00,  2.06it/s]\u001b[A\n",
      "100%|████████████████████████████████████████████████████████████████████████████████| 100/100 [00:43<00:00,  2.28it/s]\u001b[A\n"
     ]
    }
   ],
   "source": [
    "# It took more than 4 hours!\n",
    "generator = LSTMChemGenerator(modeler)\n",
    "sampled_smiles = generator.sample(num=100)"
   ]
  },
  {
   "cell_type": "code",
   "execution_count": 8,
   "metadata": {},
   "outputs": [],
   "source": [
    "from rdkit import RDLogger, Chem, DataStructs\n",
    "from rdkit.Chem import AllChem, Descriptors\n",
    "RDLogger.DisableLog('rdApp.*')"
   ]
  },
  {
   "cell_type": "code",
   "execution_count": 9,
   "metadata": {},
   "outputs": [
    {
     "name": "stdout",
     "output_type": "stream",
     "text": [
      "0.19%\n"
     ]
    }
   ],
   "source": [
    "valid_mols = []\n",
    "for smi in sampled_smiles:\n",
    "    mol = Chem.MolFromSmiles(smi)\n",
    "    if mol is not None:\n",
    "        valid_mols.append(mol)\n",
    "# low validity\n",
    "print(f'{len(valid_mols) / 30000:.2%}')"
   ]
  },
  {
   "cell_type": "code",
   "execution_count": 10,
   "metadata": {},
   "outputs": [
    {
     "name": "stdout",
     "output_type": "stream",
     "text": [
      "100.00%\n"
     ]
    }
   ],
   "source": [
    "valid_smiles = [Chem.MolToSmiles(mol) for mol in valid_mols]\n",
    "# high uniqueness\n",
    "print(f'{len(set(valid_smiles)) / len(valid_smiles):.2%}')"
   ]
  },
  {
   "cell_type": "code",
   "execution_count": 11,
   "metadata": {},
   "outputs": [],
   "source": [
    "with open('./datasets/dataset_cleansed.smi') as f:\n",
    "    org_smiles = [l.rstrip() for l in f]\n",
    "\n",
    "org_mols = [mol for mol in [Chem.MolFromSmiles(smi) for smi in org_smiles] if mol is not None]"
   ]
  },
  {
   "cell_type": "code",
   "execution_count": 12,
   "metadata": {},
   "outputs": [
    {
     "ename": "KeyboardInterrupt",
     "evalue": "",
     "output_type": "error",
     "traceback": [
      "\u001b[1;31m---------------------------------------------------------------------------\u001b[0m",
      "\u001b[1;31mKeyboardInterrupt\u001b[0m                         Traceback (most recent call last)",
      "\u001b[1;32m<ipython-input-12-ecad006fa9da>\u001b[0m in \u001b[0;36m<module>\u001b[1;34m\u001b[0m\n\u001b[0;32m      8\u001b[0m \u001b[0mOfps\u001b[0m \u001b[1;33m=\u001b[0m \u001b[1;33m[\u001b[0m\u001b[1;33m]\u001b[0m\u001b[1;33m\u001b[0m\u001b[1;33m\u001b[0m\u001b[0m\n\u001b[0;32m      9\u001b[0m \u001b[1;32mfor\u001b[0m \u001b[0mmol\u001b[0m \u001b[1;32min\u001b[0m \u001b[0morg_mols\u001b[0m\u001b[1;33m:\u001b[0m\u001b[1;33m\u001b[0m\u001b[1;33m\u001b[0m\u001b[0m\n\u001b[1;32m---> 10\u001b[1;33m     \u001b[0mbv\u001b[0m \u001b[1;33m=\u001b[0m \u001b[0mAllChem\u001b[0m\u001b[1;33m.\u001b[0m\u001b[0mGetMACCSKeysFingerprint\u001b[0m\u001b[1;33m(\u001b[0m\u001b[0mmol\u001b[0m\u001b[1;33m)\u001b[0m\u001b[1;33m\u001b[0m\u001b[1;33m\u001b[0m\u001b[0m\n\u001b[0m\u001b[0;32m     11\u001b[0m     \u001b[0mfp\u001b[0m \u001b[1;33m=\u001b[0m \u001b[0mnp\u001b[0m\u001b[1;33m.\u001b[0m\u001b[0mzeros\u001b[0m\u001b[1;33m(\u001b[0m\u001b[0mlen\u001b[0m\u001b[1;33m(\u001b[0m\u001b[0mbv\u001b[0m\u001b[1;33m)\u001b[0m\u001b[1;33m)\u001b[0m\u001b[1;33m\u001b[0m\u001b[1;33m\u001b[0m\u001b[0m\n\u001b[0;32m     12\u001b[0m     \u001b[0mDataStructs\u001b[0m\u001b[1;33m.\u001b[0m\u001b[0mConvertToNumpyArray\u001b[0m\u001b[1;33m(\u001b[0m\u001b[0mbv\u001b[0m\u001b[1;33m,\u001b[0m \u001b[0mfp\u001b[0m\u001b[1;33m)\u001b[0m\u001b[1;33m\u001b[0m\u001b[1;33m\u001b[0m\u001b[0m\n",
      "\u001b[1;31mKeyboardInterrupt\u001b[0m: "
     ]
    }
   ],
   "source": [
    "Vfps = []\n",
    "for mol in valid_mols:\n",
    "    bv = AllChem.GetMACCSKeysFingerprint(mol)\n",
    "    fp = np.zeros(len(bv))\n",
    "    DataStructs.ConvertToNumpyArray(bv, fp)\n",
    "    Vfps.append(fp)\n",
    "\n",
    "Ofps = []\n",
    "for mol in org_mols:\n",
    "    bv = AllChem.GetMACCSKeysFingerprint(mol)\n",
    "    fp = np.zeros(len(bv))\n",
    "    DataStructs.ConvertToNumpyArray(bv, fp)\n",
    "    Ofps.append(fp)"
   ]
  },
  {
   "cell_type": "code",
   "execution_count": null,
   "metadata": {},
   "outputs": [],
   "source": [
    "from sklearn.decomposition import PCA\n",
    "Vlen = len(Vfps)\n",
    "x = Vfps + Ofps\n",
    "pca = PCA(n_components=2, random_state=71)\n",
    "X = pca.fit_transform(x)"
   ]
  },
  {
   "cell_type": "code",
   "execution_count": null,
   "metadata": {},
   "outputs": [],
   "source": [
    "plt.figure(figsize=(12, 9))\n",
    "plt.scatter(X[Vlen:, 0], X[Vlen:, 1], c='w', edgecolors='k', label='original')\n",
    "plt.scatter(X[:Vlen, 0], X[:Vlen, 1], marker='+', label='generated')\n",
    "plt.xlabel('PC 1')\n",
    "plt.ylabel('PC 2')\n",
    "plt.legend();"
   ]
  },
  {
   "cell_type": "code",
   "execution_count": null,
   "metadata": {},
   "outputs": [],
   "source": [
    "props = {\n",
    "    'MW': {\n",
    "        'generated': [Descriptors.ExactMolWt(mol) for mol in valid_mols],\n",
    "        'original': [Descriptors.ExactMolWt(mol) for mol in org_mols]        \n",
    "    },\n",
    "    'logP': {\n",
    "        'generated': [Descriptors.MolLogP(mol) for mol in valid_mols],\n",
    "        'original': [Descriptors.MolLogP(mol) for mol in org_mols]\n",
    "    }\n",
    "}"
   ]
  },
  {
   "cell_type": "code",
   "execution_count": null,
   "metadata": {},
   "outputs": [],
   "source": [
    "fig = plt.figure(figsize=(12, 6))\n",
    "\n",
    "ax1 = fig.add_subplot(1, 2, 1)\n",
    "ax1.violinplot([props['MW']['original'], props['MW']['generated']])\n",
    "ax1.set_xticks(ticks=[1, 2])\n",
    "ax1.set_xticklabels(labels=['original', 'generated'])\n",
    "ax1.set_title('MW')\n",
    "\n",
    "ax2 = fig.add_subplot(1, 2, 2)\n",
    "ax2.violinplot([props['logP']['original'], props['logP']['generated']])\n",
    "ax2.set_xticks(ticks=[1, 2])\n",
    "ax2.set_xticklabels(labels=['original', 'generated'])\n",
    "ax2.set_title('clogP')\n",
    "\n",
    "plt.tight_layout()"
   ]
  },
  {
   "cell_type": "code",
   "execution_count": null,
   "metadata": {},
   "outputs": [],
   "source": []
  }
 ],
 "metadata": {
  "kernelspec": {
   "display_name": "Python 3",
   "language": "python",
   "name": "python3"
  },
  "language_info": {
   "codemirror_mode": {
    "name": "ipython",
    "version": 3
   },
   "file_extension": ".py",
   "mimetype": "text/x-python",
   "name": "python",
   "nbconvert_exporter": "python",
   "pygments_lexer": "ipython3",
   "version": "3.7.6"
  }
 },
 "nbformat": 4,
 "nbformat_minor": 2
}
