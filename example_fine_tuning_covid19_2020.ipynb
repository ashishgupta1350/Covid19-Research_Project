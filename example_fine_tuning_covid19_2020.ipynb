{
 "cells": [
  {
   "cell_type": "code",
   "execution_count": 1,
   "metadata": {},
   "outputs": [
    {
     "name": "stderr",
     "output_type": "stream",
     "text": [
      "C:\\Users\\ashis\\anaconda3\\lib\\site-packages\\tensorflow\\python\\framework\\dtypes.py:526: FutureWarning: Passing (type, 1) or '1type' as a synonym of type is deprecated; in a future version of numpy, it will be understood as (type, (1,)) / '(1,)type'.\n",
      "  _np_qint8 = np.dtype([(\"qint8\", np.int8, 1)])\n",
      "C:\\Users\\ashis\\anaconda3\\lib\\site-packages\\tensorflow\\python\\framework\\dtypes.py:527: FutureWarning: Passing (type, 1) or '1type' as a synonym of type is deprecated; in a future version of numpy, it will be understood as (type, (1,)) / '(1,)type'.\n",
      "  _np_quint8 = np.dtype([(\"quint8\", np.uint8, 1)])\n",
      "C:\\Users\\ashis\\anaconda3\\lib\\site-packages\\tensorflow\\python\\framework\\dtypes.py:528: FutureWarning: Passing (type, 1) or '1type' as a synonym of type is deprecated; in a future version of numpy, it will be understood as (type, (1,)) / '(1,)type'.\n",
      "  _np_qint16 = np.dtype([(\"qint16\", np.int16, 1)])\n",
      "C:\\Users\\ashis\\anaconda3\\lib\\site-packages\\tensorflow\\python\\framework\\dtypes.py:529: FutureWarning: Passing (type, 1) or '1type' as a synonym of type is deprecated; in a future version of numpy, it will be understood as (type, (1,)) / '(1,)type'.\n",
      "  _np_quint16 = np.dtype([(\"quint16\", np.uint16, 1)])\n",
      "C:\\Users\\ashis\\anaconda3\\lib\\site-packages\\tensorflow\\python\\framework\\dtypes.py:530: FutureWarning: Passing (type, 1) or '1type' as a synonym of type is deprecated; in a future version of numpy, it will be understood as (type, (1,)) / '(1,)type'.\n",
      "  _np_qint32 = np.dtype([(\"qint32\", np.int32, 1)])\n",
      "C:\\Users\\ashis\\anaconda3\\lib\\site-packages\\tensorflow\\python\\framework\\dtypes.py:535: FutureWarning: Passing (type, 1) or '1type' as a synonym of type is deprecated; in a future version of numpy, it will be understood as (type, (1,)) / '(1,)type'.\n",
      "  np_resource = np.dtype([(\"resource\", np.ubyte, 1)])\n"
     ]
    }
   ],
   "source": [
    "import numpy as np\n",
    "from sklearn.decomposition import PCA\n",
    "import matplotlib.pyplot as plt\n",
    "%matplotlib inline\n",
    "\n",
    "from rdkit import Chem, DataStructs\n",
    "from rdkit.Chem import AllChem, Draw\n",
    "from rdkit.Chem.Draw import IPythonConsole\n",
    "\n",
    "from lstm_chem.utils.config import process_config\n",
    "from lstm_chem.model import LSTMChem\n",
    "from lstm_chem.finetuner import LSTMChemFinetuner\n",
    "from lstm_chem.data_loader import DataLoader"
   ]
  },
  {
   "cell_type": "code",
   "execution_count": 3,
   "metadata": {},
   "outputs": [
    {
     "name": "stdout",
     "output_type": "stream",
     "text": [
      "Loading model architecture from experiments/2020-03-24/LSTM_Chem/model_arch.json ...\n",
      "Loading model checkpoint from experiments/2020-03-24/LSTM_Chem/checkpoints/LSTM_Chem-22-0.45.hdf5 ...\n",
      "Loaded the Model."
     ]
    },
    {
     "name": "stderr",
     "output_type": "stream",
     "text": [
      "100%|█████████████████████████████████████████████████████████████████████████████| 115/115 [00:00<00:00, 16469.03it/s]"
     ]
    },
    {
     "name": "stdout",
     "output_type": "stream",
     "text": [
      "\n",
      "loading SMILES...\n",
      "done.\n",
      "tokenizing SMILES...\n",
      "done.\n"
     ]
    },
    {
     "name": "stderr",
     "output_type": "stream",
     "text": [
      "\n"
     ]
    },
    {
     "name": "stdout",
     "output_type": "stream",
     "text": [
      "WARNING:tensorflow:From C:\\Users\\ashis\\anaconda3\\lib\\site-packages\\tensorflow\\python\\ops\\math_ops.py:3066: to_int32 (from tensorflow.python.ops.math_ops) is deprecated and will be removed in a future version.\n",
      "Instructions for updating:\n",
      "Use tf.cast instead.\n",
      "WARNING:tensorflow:From C:\\Users\\ashis\\anaconda3\\lib\\site-packages\\tensorflow\\python\\ops\\math_grad.py:102: div (from tensorflow.python.ops.math_ops) is deprecated and will be removed in a future version.\n",
      "Instructions for updating:\n",
      "Deprecated in favor of operator or tf.math.divide.\n",
      "Epoch 1/12\n",
      "115/115 [==============================] - 14s 125ms/step - loss: 1.6976\n",
      "Epoch 2/12\n",
      "115/115 [==============================] - 14s 122ms/step - loss: 1.3046\n",
      "Epoch 3/12\n",
      "115/115 [==============================] - 14s 126ms/step - loss: 1.2776\n",
      "Epoch 4/12\n",
      "115/115 [==============================] - 17s 144ms/step - loss: 1.1739\n",
      "Epoch 5/12\n",
      "115/115 [==============================] - 16s 136ms/step - loss: 1.0856\n",
      "Epoch 6/12\n",
      "115/115 [==============================] - 14s 125ms/step - loss: 1.1411\n",
      "Epoch 7/12\n",
      "115/115 [==============================] - 14s 125ms/step - loss: 1.0753\n",
      "Epoch 8/12\n",
      "115/115 [==============================] - 15s 133ms/step - loss: 0.9289\n",
      "Epoch 9/12\n",
      "115/115 [==============================] - 14s 120ms/step - loss: 0.9283\n",
      "Epoch 10/12\n",
      "115/115 [==============================] - 13s 113ms/step - loss: 0.9242\n",
      "Epoch 11/12\n",
      "115/115 [==============================] - 13s 111ms/step - loss: 0.9278\n",
      "Epoch 12/12\n",
      "115/115 [==============================] - 13s 117ms/step - loss: 0.8769\n"
     ]
    },
    {
     "data": {
      "text/plain": [
       "<tensorflow.python.keras.callbacks.History at 0x21d33cfa748>"
      ]
     },
     "execution_count": 3,
     "metadata": {},
     "output_type": "execute_result"
    }
   ],
   "source": [
    "config = process_config('experiments/2020-03-24/LSTM_Chem/config.json')\n",
    "\n",
    "modeler = LSTMChem(config, session='finetune')\n",
    "finetune_dl = DataLoader(config, data_type='finetune')\n",
    "\n",
    "finetuner = LSTMChemFinetuner(modeler, finetune_dl)\n",
    "finetuner.finetune()"
   ]
  },
  {
   "cell_type": "code",
   "execution_count": 34,
   "metadata": {},
   "outputs": [],
   "source": [
    "finetuned_smiles = finetuner.sample(num=100)"
   ]
  },
  {
   "cell_type": "code",
   "execution_count": 35,
   "metadata": {},
   "outputs": [],
   "source": [
    "with open('./datasets/known_inhibitors_for_corona_virus.smi') as f:\n",
    "    ksmiles = [l.rstrip() for l in f]\n",
    "kmols = [Chem.MolFromSmiles(smi) for smi in ksmiles]\n",
    "\n",
    "Kfps = []\n",
    "for mol in kmols:\n",
    "    bv = AllChem.GetMACCSKeysFingerprint(mol)\n",
    "    fp = np.zeros(len(bv))\n",
    "    DataStructs.ConvertToNumpyArray(bv, fp)\n",
    "    Kfps.append(fp)\n",
    "\n",
    "Klen = len(Kfps)"
   ]
  },
  {
   "cell_type": "code",
   "execution_count": 36,
   "metadata": {},
   "outputs": [],
   "source": [
    "with open('./datasets/known_inhibitors_for_corona_virus_for_fine_tuning.smi') as f:\n",
    "    fsmiles = [l.rstrip() for l in f]\n",
    "fmols = [Chem.MolFromSmiles(smi) for smi in fsmiles]\n",
    "\n",
    "Ffps, Fbvs = [], []\n",
    "for mol in fmols:\n",
    "    bv = AllChem.GetMACCSKeysFingerprint(mol)\n",
    "    Fbvs.append(bv)\n",
    "    \n",
    "    fp = np.zeros(len(bv))\n",
    "    DataStructs.ConvertToNumpyArray(bv, fp)\n",
    "    Ffps.append(fp)\n",
    "\n",
    "Flen = len(Ffps)"
   ]
  },
  {
   "cell_type": "code",
   "execution_count": 37,
   "metadata": {},
   "outputs": [],
   "source": [
    "Sfps, Sbvs, smols = [], [], []\n",
    "for smi in finetuned_smiles:\n",
    "    mol = Chem.MolFromSmiles(smi)\n",
    "    smols.append(mol)\n",
    "    \n",
    "    bv = AllChem.GetMACCSKeysFingerprint(mol)\n",
    "    Sbvs.append(bv)\n",
    "    \n",
    "    fp = np.zeros(len(bv))\n",
    "    DataStructs.ConvertToNumpyArray(bv, fp)\n",
    "    Sfps.append(fp)"
   ]
  },
  {
   "cell_type": "code",
   "execution_count": 38,
   "metadata": {},
   "outputs": [],
   "source": [
    "x = Kfps + Ffps + Sfps\n",
    "pca = PCA(n_components=2, random_state=71)\n",
    "X = pca.fit_transform(x)"
   ]
  },
  {
   "cell_type": "code",
   "execution_count": 39,
   "metadata": {},
   "outputs": [
    {
     "data": {
      "image/png": "[encoded data removed]",
      "text/plain": [
       "<Figure size 576x360 with 1 Axes>"
      ]
     },
     "metadata": {
      "needs_background": "light"
     },
     "output_type": "display_data"
    }
   ],
   "source": [
    "plt.figure(figsize=(8, 5))\n",
    "plt.scatter(X[:Klen, 0], X[:Klen, 1],\n",
    "            c='w', edgecolors='k', label='Known TRPM8 inhibitors')\n",
    "plt.scatter(X[Klen:Klen + Flen, 0], X[Klen:Klen + Flen, 1],\n",
    "            s=200, c='r', marker='*', edgecolors='k', label='Selected training molecules')\n",
    "plt.scatter(X[Klen + Flen:, 0], X[Klen + Flen:, 1],\n",
    "            c='c', marker='+', label='TRPM8 fine tuned')\n",
    "plt.xlabel('PC 1')\n",
    "plt.ylabel('PC 2')\n",
    "plt.legend();"
   ]
  },
  {
   "cell_type": "code",
   "execution_count": 40,
   "metadata": {},
   "outputs": [],
   "source": [
    "idxs = []\n",
    "for Fbv in Fbvs:\n",
    "    idx = np.argmax(DataStructs.BulkTanimotoSimilarity(Fbv, Sbvs))\n",
    "    idxs.append(idx)\n",
    "nsmols = [smols[idx] for idx in idxs]"
   ]
  },
  {
   "cell_type": "code",
   "execution_count": 41,
   "metadata": {},
   "outputs": [],
   "source": [
    "showmols = []\n",
    "for i, j in zip(fmols, nsmols):\n",
    "    showmols.append(i)\n",
    "    showmols.append(j)"
   ]
  },
  {
   "cell_type": "code",
   "execution_count": null,
   "metadata": {},
   "outputs": [],
   "source": [
    "Draw.MolsToGridImage(showmols, molsPerRow=2)"
   ]
  },
  {
   "cell_type": "code",
   "execution_count": 42,
   "metadata": {},
   "outputs": [
    {
     "name": "stdout",
     "output_type": "stream",
     "text": [
      "CC(=O)N1CCN(Cc2cccs2)CC1\n",
      "CC(=O)N1CCN(S(=O)(=O)c2ccc(Cl)cc2)CC1\n",
      "CS(=O)C1=CC(=O)NCc2cccnc21\n",
      "CC(=O)N1CCN(C(=O)c2ccccc2)CC1\n",
      "[Na-]\n",
      "CS(C)=O\n",
      "OCCO\n",
      "CC(=O)N1CCN(CC2=C(C(=O)O)C=C2)CC1\n",
      "CC(=O)N1CCN(CC2=C[SH]=C2)CC1\n",
      "CC(=O)[O-]\n",
      "CC(=O)N1CCN(C2=CC=CC2=O)CC1\n",
      "CS(=O)COCCNC(=O)O\n",
      "CC(=O)N1CCC=CC1=O\n",
      "CC(=O)N1CCN(Cc2cccs2)CC1\n",
      "CS(C)=O\n",
      "CC(=O)N1CCN(C(=O)c2cccs2)CC1\n",
      "CC(=O)N1CCOCC1\n",
      "CC(=O)N1CCN(C(C)=O)CC1\n",
      "CC(=O)NC1CCCNC1\n",
      "CC(=O)N1CCN(C(C)=O)CC1\n",
      "OCCO\n",
      "CC(=O)N1CCN(Cc2cccs2)CC1\n",
      "CC(=O)NCc1ccc(Cl)cc1\n",
      "CC(=O)[O-]\n",
      "CC(=O)[O-]\n",
      "CC(=O)N1CCN(Cc2ccccc2F)CC1\n",
      "CC(=O)N1CCC(S(=O)(=O)C2=CC=CCC2)CC1\n",
      "CC(=O)N1CCN(Cc2cccs2)CC1\n",
      "CC(=O)N1CCN(S(C)(=O)=O)CC1\n",
      "CC(=O)[O-]\n",
      "OCCO\n",
      "O=C(Nc1ccccc1)Nc1ccc(Cl)cc1\n",
      "OCCO\n",
      "O=C1NC(CO)CN=C2C=CC=C12\n",
      "NCC(O)CO\n",
      "CC(=O)N1CCN(S(=O)(=O)c2ccccc2)CC1\n",
      "[Na-]\n",
      "CC(=O)N1CCN(C(C)=O)CC1\n",
      "CC(=O)N1CCN(C(=O)O)CC1\n",
      "O=S(=O)([O-])Nc1ccccc1O\n",
      "O=S(=O)(CCN1CCOCC1)c1cccs1\n",
      "[Na-]\n",
      "CC(=O)N1CCN(Cc2ccsc2)CC1\n",
      "OCCO\n",
      "NS(=O)(=O)[O-]\n",
      "CC(=O)N1CCN(CC2=CC=C2C)CC1\n",
      "CC(=O)N1CCN(CC2=C(C#N)C=C2)CC1\n",
      "[Na-]\n",
      "CCNCCCC(=O)N1CCN(C(C)=O)CC1\n",
      "[Na-]\n",
      "OCCOCCO\n",
      "OCCO\n",
      "CC(=O)N1CCN(Cc2ccc(F)cc2)CC1\n",
      "CC(=O)N1CCN(Cc2ccccc2)CC1\n",
      "CC(=O)N1CCN(Cc2ccc(C#N)cc2)CC1\n",
      "CC(=O)N1CCN(CC2=CC=C2)CC1\n",
      "OCCO\n",
      "CS(C)=O\n",
      "N#Cc1ccc(CC(=O)N2CCOCC2)cc1\n",
      "CC(=O)[O-]\n",
      "O=C(Nc1ccccc1Cl)C1CCN(C(=O)CN2CCOCC2)C1\n",
      "CC(=O)N1CCC(C(=O)NCc2cccs2)CC1\n",
      "CC(=O)N1CCN(S(=O)(=O)c2cccs2)CC1\n",
      "CC(=O)N1CCN(CC2=CC=C(Cl)C2)CC1\n",
      "Cc1cccc(S(N)(=O)=O)c1\n",
      "NCC(=O)O\n",
      "NCCOCC(N)=O\n",
      "OCCOCCO\n",
      "CC(=O)N1CCN(S(=O)(=O)C2=CC=C(Cl)C2)CC1\n",
      "OCCO\n",
      "COC(=O)C1CCC(C(=O)Nc2cccnc2)CC1\n",
      "CC(=O)O\n",
      "CC(=O)[O-]\n",
      "CC(=O)N1CCN(C(C)=O)CC1\n",
      "OCCO\n",
      "CC(=O)N1CCN(S(=O)(=O)c2ccc(C#N)cc2)CC1\n",
      "CC(=O)N1CCN(C(=O)c2ccccc2)CC1\n",
      "CC(=O)N1CCCC(C(=O)c2ccccc2)CC1\n",
      "OCCO\n",
      "CC(=O)N1CCN(S(=O)(=O)C2=CC3=C2[SH]=C3)CC1\n",
      "O=C(O)NCCO\n",
      "OCC(O)CO\n",
      "CC(=O)O\n",
      "CC(=O)N1CCN(C(C)=O)CC1\n",
      "CC(=O)N1CCC(CC2=CC=CC2=O)CC1\n",
      "OCCO\n",
      "CC(=O)N1CCN(C(C)=O)CC1\n",
      "CC(=O)N1CCC(Cc2ccccc2)CC1\n",
      "CC(=O)N1CCN(Cc2ccsc2)CC1\n",
      "CC(=O)N1CCN(C(C)=O)CC1\n",
      "OCCOCCO\n",
      "CC(=O)N1CCN(Cc2ccccc2)CC1\n",
      "CC(=O)N1CCN(C(=O)c2ccccc2F)CC1\n",
      "CC(=O)N1CCN(Cc2cccs2)CC1\n",
      "CC(=O)N1CCN(Cc2cccs2)CC1\n",
      "CC(=O)N1CCN(C(=O)c2cccs2)CC1\n",
      "CC(=O)N1CCN(C(C)=O)CC1\n",
      "CC(=O)N1CCN(C(=O)C2=CC=C2)CC1\n",
      "CC(=O)[O-]\n",
      "CC(=O)[O-]\n"
     ]
    }
   ],
   "source": [
    "for x in finetuned_smiles:\n",
    "    print(x)"
   ]
  },
  {
   "cell_type": "code",
   "execution_count": null,
   "metadata": {},
   "outputs": [],
   "source": []
  }
 ],
 "metadata": {
  "kernelspec": {
   "display_name": "Python 3",
   "language": "python",
   "name": "python3"
  },
  "language_info": {
   "codemirror_mode": {
    "name": "ipython",
    "version": 3
   },
   "file_extension": ".py",
   "mimetype": "text/x-python",
   "name": "python",
   "nbconvert_exporter": "python",
   "pygments_lexer": "ipython3",
   "version": "3.7.6"
  }
 },
 "nbformat": 4,
 "nbformat_minor": 2
}
